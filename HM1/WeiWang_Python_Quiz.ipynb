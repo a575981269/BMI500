{
  "nbformat": 4,
  "nbformat_minor": 0,
  "metadata": {
    "colab": {
      "provenance": []
    },
    "kernelspec": {
      "name": "python3",
      "display_name": "Python 3"
    },
    "language_info": {
      "name": "python"
    }
  },
  "cells": [
    {
      "cell_type": "markdown",
      "source": [
        "**Problem 1.** Write a function in Python 3.x that, given an integer n, returns the sum of\n",
        "the first n terms of the series in the Leibniz formula."
      ],
      "metadata": {
        "id": "qvOYicjIrmrD"
      }
    },
    {
      "cell_type": "code",
      "execution_count": null,
      "metadata": {
        "colab": {
          "base_uri": "https://localhost:8080/"
        },
        "id": "jfcP9FcJ01hJ",
        "outputId": "8eaed1e0-837d-4876-b522-1e3404989a4f"
      },
      "outputs": [
        {
          "output_type": "stream",
          "name": "stdout",
          "text": [
            "3.1415826535897198\n"
          ]
        }
      ],
      "source": [
        "def leibniz_pi(n):\n",
        "    \"\"\"Returns the sum of the first n terms of the series in the Leibniz formula for π.\"\"\"\n",
        "    sum = 0\n",
        "    for i in range(n):\n",
        "        sum += (-1)**i / (2*i + 1)\n",
        "    return 4 * sum\n",
        "\n",
        "# Example\n",
        "n = 100000\n",
        "print(leibniz_pi(n))\n"
      ]
    },
    {
      "cell_type": "markdown",
      "source": [
        "**Problem 2**. For each of the following items, write a function in Python 3.x that, given an\n",
        "integer n, returns the sum of the first n terms of the series in the Leibniz formula.\n",
        "\n",
        "\n",
        "a. Use a for-loop and an if-statement with the modulo operator % to determine whether\n",
        "to add or subtract each term.\n"
      ],
      "metadata": {
        "id": "Aw464qQ6roQe"
      }
    },
    {
      "cell_type": "code",
      "source": [
        "# a. Using for-loop with modulo operator\n",
        "def leibniz_a(n):\n",
        "    sum = 0\n",
        "    for i in range(n):\n",
        "        if i % 2 == 0:\n",
        "            sum += 1 / (2 * i + 1)\n",
        "        else:\n",
        "            sum -= 1 / (2 * i + 1)\n",
        "    return 4 * sum\n",
        "\n",
        "n = 1000000\n",
        "print(leibniz_a(n))\n",
        "print(abs(leibniz_a(n) - math.pi))"
      ],
      "metadata": {
        "colab": {
          "base_uri": "https://localhost:8080/"
        },
        "id": "b6srANpM02z9",
        "outputId": "24dfb1fa-4475-40d8-bf7c-4327ca2d21a8"
      },
      "execution_count": null,
      "outputs": [
        {
          "output_type": "stream",
          "name": "stdout",
          "text": [
            "3.1415916535897743\n",
            "1.0000000187915248e-06\n"
          ]
        }
      ]
    },
    {
      "cell_type": "markdown",
      "source": [
        "b. Use a for-loop with the quantity (-1)**n to determine whether to add or subtract\n",
        "each term.\n"
      ],
      "metadata": {
        "id": "AuhVwzGHrwfO"
      }
    },
    {
      "cell_type": "code",
      "source": [
        "# b. Using for-loop with (-1)**n\n",
        "def leibniz_b(n):\n",
        "    sum = 0\n",
        "    for i in range(n):\n",
        "        sum += (-1)**i / (2 * i + 1)\n",
        "    return 4 * sum\n",
        "\n",
        "\n",
        "n = 1000000\n",
        "print(leibniz_b(n))\n",
        "print(abs(leibniz_b(n) - math.pi))"
      ],
      "metadata": {
        "colab": {
          "base_uri": "https://localhost:8080/"
        },
        "id": "ZesmIzoIsInq",
        "outputId": "e4f8447a-c01c-4ee1-f55d-b8de4432d365"
      },
      "execution_count": null,
      "outputs": [
        {
          "output_type": "stream",
          "name": "stdout",
          "text": [
            "3.1415916535897743\n",
            "1.0000000187915248e-06\n"
          ]
        }
      ]
    },
    {
      "cell_type": "markdown",
      "source": [
        "c. Construct a Python list and compute the sum of the terms in the list.\n"
      ],
      "metadata": {
        "id": "FaLvdYRKrwdk"
      }
    },
    {
      "cell_type": "code",
      "source": [
        "# c. Using a list\n",
        "def leibniz_c(n):\n",
        "    terms = [(-1)**i / (2 * i + 1) for i in range(n)]\n",
        "    return 4 * sum(terms)\n",
        "\n",
        "n = 1000000\n",
        "print(leibniz_c(n))\n",
        "print(abs(leibniz_c(n) - math.pi))"
      ],
      "metadata": {
        "colab": {
          "base_uri": "https://localhost:8080/"
        },
        "id": "cblCk0FBsJPF",
        "outputId": "5a1d11a7-8fa2-47e3-8670-0f1f03e9f057"
      },
      "execution_count": null,
      "outputs": [
        {
          "output_type": "stream",
          "name": "stdout",
          "text": [
            "3.1415916535897743\n",
            "1.0000000187915248e-06\n"
          ]
        }
      ]
    },
    {
      "cell_type": "markdown",
      "source": [
        "d. Construct a Python set and compute the sum of the terms in the set.\n"
      ],
      "metadata": {
        "id": "CSnzcueIrwbt"
      }
    },
    {
      "cell_type": "code",
      "source": [
        "# d. Using a set\n",
        "def leibniz_d(n):\n",
        "    terms = {(-1)**i / (2 * i + 1) for i in range(n)}\n",
        "    return 4 * sum(terms)\n",
        "\n",
        "n = 1000000\n",
        "print(leibniz_d(n))\n",
        "print(abs(leibniz_d(n) - math.pi))"
      ],
      "metadata": {
        "colab": {
          "base_uri": "https://localhost:8080/"
        },
        "id": "Aw-TKOpHsJl5",
        "outputId": "ed3ae363-7ccc-42be-e590-72825531a16c"
      },
      "execution_count": null,
      "outputs": [
        {
          "output_type": "stream",
          "name": "stdout",
          "text": [
            "3.141591653590112\n",
            "9.999996812837253e-07\n"
          ]
        }
      ]
    },
    {
      "cell_type": "markdown",
      "source": [
        "e. Construct a Python dictionary and compute the sum of the terms in the dictionary.\n"
      ],
      "metadata": {
        "id": "ADaCC_yQrwZg"
      }
    },
    {
      "cell_type": "code",
      "source": [
        "# e. Using a dictionary\n",
        "def leibniz_e(n):\n",
        "    terms = {i: (-1)**i / (2 * i + 1) for i in range(n)}\n",
        "    return 4 * sum(terms.values())\n",
        "\n",
        "n = 1000000\n",
        "print(leibniz_e(n))\n",
        "print(abs(leibniz_e(n) - math.pi))"
      ],
      "metadata": {
        "colab": {
          "base_uri": "https://localhost:8080/"
        },
        "id": "QYmuQYEYsJ2T",
        "outputId": "0857926e-c275-47c4-aaa0-d4fa3afca23b"
      },
      "execution_count": null,
      "outputs": [
        {
          "output_type": "stream",
          "name": "stdout",
          "text": [
            "3.1415916535897743\n",
            "1.0000000187915248e-06\n"
          ]
        }
      ]
    },
    {
      "cell_type": "markdown",
      "source": [
        "f. Construct a NumPy array and compute the sum of the terms in the array.\n"
      ],
      "metadata": {
        "id": "o5FyqaEPrwVg"
      }
    },
    {
      "cell_type": "code",
      "source": [
        "# f. Using NumPy array\n",
        "import numpy as np\n",
        "def leibniz_f(n):\n",
        "    terms = np.array([(-1)**i / (2 * i + 1) for i in range(n)])\n",
        "    return 4 * terms.sum()\n",
        "\n",
        "n = 1000000\n",
        "print(leibniz_f(n))\n",
        "print(abs(leibniz_f(n) - math.pi))"
      ],
      "metadata": {
        "colab": {
          "base_uri": "https://localhost:8080/"
        },
        "id": "nbK5INkDsKFa",
        "outputId": "bffeadf5-cd45-4cb0-a203-0a4c419bfef9"
      },
      "execution_count": null,
      "outputs": [
        {
          "output_type": "stream",
          "name": "stdout",
          "text": [
            "3.141591653589794\n",
            "9.999999992515995e-07\n"
          ]
        }
      ]
    },
    {
      "cell_type": "markdown",
      "source": [
        "g. Construct a NumPy array, use array indexing to compute the sum of the positive terms\n",
        "in the array, use array indexing to compute the sum of the negative terms in the array,\n",
        "and add the two sums together. You can write x[::2] to access the first, third, etc.\n",
        "terms and x[1::2] to access the second, fourth, etc. terms.\n"
      ],
      "metadata": {
        "id": "uBkWNCNfr37b"
      }
    },
    {
      "cell_type": "code",
      "source": [
        "# g. Using NumPy array with indexing\n",
        "def leibniz_g(n):\n",
        "    terms = np.array([(-1)**i / (2 * i + 1) for i in range(n)])\n",
        "    positive_sum = terms[::2].sum()\n",
        "    negative_sum = terms[1::2].sum()\n",
        "    return 4 * (positive_sum + negative_sum)\n",
        "\n",
        "n = 1000000\n",
        "print(leibniz_g(n))\n",
        "print(abs(leibniz_g(n) - math.pi))"
      ],
      "metadata": {
        "colab": {
          "base_uri": "https://localhost:8080/"
        },
        "id": "4cbsSf4DsKif",
        "outputId": "6a3bf57c-d0a2-4627-f64e-38cc8ad1c703"
      },
      "execution_count": null,
      "outputs": [
        {
          "output_type": "stream",
          "name": "stdout",
          "text": [
            "3.141591653589794\n",
            "9.999999992515995e-07\n"
          ]
        }
      ]
    },
    {
      "cell_type": "markdown",
      "source": [
        "j. Combine the first and second terms, the third and fourth terms, etc. to change this\n",
        "series from an alternating to a non-alternating series and compute the sum of the\n",
        "combined terms."
      ],
      "metadata": {
        "id": "pD_RmwCcr35r"
      }
    },
    {
      "cell_type": "code",
      "source": [
        "# j. Combining terms\n",
        "def leibniz_j(n):\n",
        "    combined_terms = [(1 / (2 * i + 1) - 1 / (2 * i + 3)) for i in range(0, n, 2)]\n",
        "    return 4 * sum(combined_terms)\n",
        "\n",
        "# Test\n",
        "n = 1000000\n",
        "print(leibniz_g(n))\n",
        "print(abs(leibniz_j(n) - math.pi))"
      ],
      "metadata": {
        "colab": {
          "base_uri": "https://localhost:8080/"
        },
        "id": "hJZgAczssKz6",
        "outputId": "e568994f-1f5c-44d2-8433-bf33b926b5e9"
      },
      "execution_count": null,
      "outputs": [
        {
          "output_type": "stream",
          "name": "stdout",
          "text": [
            "3.141591653589794\n",
            "9.999998846765834e-07\n"
          ]
        }
      ]
    },
    {
      "cell_type": "markdown",
      "source": [
        "**Problem 3**. Which of these implementations of the Leibniz formula is the most accurate,\n",
        "fastest, and/or clearest? Which function would you use to calculate π (and why)? You can\n",
        "use the. built-in constants math.pi or np.pi for assessing the accuracy of your functions\n",
        "and the time package or the %timeit command for timing."
      ],
      "metadata": {
        "id": "98vzG75_r8hK"
      }
    },
    {
      "cell_type": "code",
      "source": [
        "import time\n",
        "import math\n",
        "\n",
        "n = 1000000\n",
        "\n",
        "start = time.time()\n",
        "leibniz_a(n)\n",
        "print(\"Time for leibniz_a:\", time.time() - start)\n",
        "\n",
        "start = time.time()\n",
        "leibniz_b(n)\n",
        "print(\"Time for leibniz_b:\", time.time() - start)\n",
        "start = time.time()\n",
        "leibniz_c(n)\n",
        "print(\"Time for leibniz_c:\", time.time() - start)\n",
        "start = time.time()\n",
        "leibniz_d(n)\n",
        "print(\"Time for leibniz_d:\", time.time() - start)\n",
        "start = time.time()\n",
        "leibniz_e(n)\n",
        "print(\"Time for leibniz_e:\", time.time() - start)\n",
        "start = time.time()\n",
        "leibniz_f(n)\n",
        "print(\"Time for leibniz_f:\", time.time() - start)\n",
        "start = time.time()\n",
        "leibniz_g(n)\n",
        "print(\"Time for leibniz_g:\", time.time() - start)\n",
        "start = time.time()\n",
        "leibniz_j(n)\n",
        "print(\"Time for leibniz_j:\", time.time() - start)"
      ],
      "metadata": {
        "colab": {
          "base_uri": "https://localhost:8080/"
        },
        "id": "CpOYf74lswDr",
        "outputId": "5913f8bf-a32a-4d3a-fe30-fd2b89c4462b"
      },
      "execution_count": null,
      "outputs": [
        {
          "output_type": "stream",
          "name": "stdout",
          "text": [
            "Time for leibniz_a: 0.11662149429321289\n",
            "Time for leibniz_b: 0.3667638301849365\n",
            "Time for leibniz_c: 0.3491518497467041\n",
            "Time for leibniz_d: 0.6642162799835205\n",
            "Time for leibniz_e: 0.44678521156311035\n",
            "Time for leibniz_f: 0.4706728458404541\n",
            "Time for leibniz_g: 0.44023823738098145\n",
            "Time for leibniz_j: 0.08593177795410156\n"
          ]
        }
      ]
    },
    {
      "cell_type": "markdown",
      "source": [
        "Answer:\n",
        "\n",
        "Most clear: Functions leibniz_a and leibniz_b. It's easy to see what's happening.\n",
        "\n",
        "Fastest:leibniz_j\n",
        "\n",
        "Most accurate: leibniz_d, leibniz_f, leibniz_g, leibniz_j"
      ],
      "metadata": {
        "id": "JJNISg4Ct-4p"
      }
    },
    {
      "cell_type": "markdown",
      "source": [
        "**Problem 4**. Choose your favorite implementation of this formula, and plot the absolute\n",
        "error in the sum as a function of the number of terms in the sum.\n",
        "You should have accurate, informative, and legible labels for both the x-axis and y-axis, and\n",
        "you should use logarithmic axes or take the logarithm of the errors and the numbers of terms\n",
        "so that you can see the sums converge over a wide range of values.\n",
        "By default, most plotting packages generate large plots that are difficult to read in papers\n",
        "and presentations. Use a command like plt.figure(figsize=(2, 2)) to make your plot\n",
        "more legible."
      ],
      "metadata": {
        "id": "y5pexyWCr8fM"
      }
    },
    {
      "cell_type": "code",
      "source": [
        "import math\n",
        "import matplotlib.pyplot as plt\n",
        "import numpy as np\n",
        "\n",
        "def leibniz_a(n):\n",
        "    sum = 0\n",
        "    for i in range(n):\n",
        "        if i % 2 == 0:\n",
        "            sum += 1 / (2 * i + 1)\n",
        "        else:\n",
        "            sum -= 1 / (2 * i + 1)\n",
        "    return 4 * sum\n",
        "\n",
        "# Decide on the range for n\n",
        "n_values = list(range(10, 10000, 50))\n",
        "errors = []\n",
        "\n",
        "# Calculate the error for each n\n",
        "for n in n_values:\n",
        "    error = abs(leibniz_a(n) - math.pi)\n",
        "    errors.append(error)\n",
        "\n",
        "# Plotting\n",
        "plt.figure(figsize=(2,2))\n",
        "plt.loglog(n_values, errors, label=\"Absolute Error\", marker='.')\n",
        "plt.xlabel(\"Number of Terms\")\n",
        "plt.ylabel(\"Absolute Error\")\n",
        "plt.title(\"Convergence of the Leibniz Formula A for π\")\n",
        "plt.legend()\n",
        "plt.grid(True, which=\"both\", ls=\"--\")\n",
        "plt.show()\n"
      ],
      "metadata": {
        "colab": {
          "base_uri": "https://localhost:8080/",
          "height": 261
        },
        "id": "ytNsn588wHaU",
        "outputId": "a2d1d225-7c8c-43e5-d9c9-a3b932fbd016"
      },
      "execution_count": 33,
      "outputs": [
        {
          "output_type": "display_data",
          "data": {
            "text/plain": [
              "<Figure size 200x200 with 1 Axes>"
            ],
            "image/png": "[encoded data removed]"
          },
          "metadata": {}
        }
      ]
    },
    {
      "cell_type": "markdown",
      "source": [
        "**Problem 5**. Would you do anything differently for computing π using the Leibniz formula\n",
        "if you were using MATLAB instead of Python?"
      ],
      "metadata": {
        "id": "ak_QEfE7r8dY"
      }
    },
    {
      "cell_type": "markdown",
      "source": [
        " we often utilize MATLAB's efficient matrix and vector operations.\n",
        "\n",
        " MATLAB: At its heart, MATLAB is designed for numerical computing. Its basic data structure is a matrix (or array), and it is built from the ground up to operate on matrices easily and efficiently. For instance, simple arithmetic operations on matrices, such as addition and multiplication, are built-in and optimized.\n",
        "\n",
        "\n",
        "Python: Python is a general-purpose programming language. While it can handle matrix operations using libraries like NumPy, its core is not inherently matrix-based."
      ],
      "metadata": {
        "id": "eOg4hasbxWy7"
      }
    }
  ]
}